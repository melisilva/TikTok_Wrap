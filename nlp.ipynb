{
 "cells": [
  {
   "cell_type": "code",
   "execution_count": null,
   "metadata": {},
   "outputs": [],
   "source": [
    "import pandas as pd\n",
    "\n",
    "history = pd.read_csv('data/unique_video_browsing_history_full_tiktok_data.csv')\n",
    "history.sort_values(by=['Date'], inplace=True)\n",
    "\n",
    "# Put the hashtags in lower case from history\n",
    "history['Hashtags'] = history['Hashtags'].str.lower()\n",
    "\n",
    "# Create an dataframe with which row being a single hashtag and the count of the hashtag with the columns names: Hashtag and Count\n",
    "hashtags = history['Hashtags'].str.split(',', expand=True).stack().value_counts().rename_axis('Hashtag').reset_index(name='Count')\n",
    "\n",
    "hashtags.head(10)"
   ]
  },
  {
   "cell_type": "code",
   "execution_count": null,
   "metadata": {},
   "outputs": [],
   "source": [
    "# Remove fyp\n",
    "\n",
    "pattern = r'#(fy\\w+|fory\\w+|fy|xyzbca|viral)'\n",
    "\n",
    "# Remove row with re patterns from hashtags['Hashtags']\n",
    "hashtags = hashtags[~hashtags['Hashtag'].str.contains(pattern)]\n",
    "\n",
    "hashtags.head(10)\n"
   ]
  },
  {
   "cell_type": "code",
   "execution_count": null,
   "metadata": {},
   "outputs": [],
   "source": [
    "import wordninja as wn\n",
    "\n",
    "# Create a new column with the hashtags splitted by words\n",
    "hashtags['Hashtags_split'] = hashtags['Hashtag'].apply(lambda x: wn.split(x))\n",
    "hashtags.reset_index(drop=True, inplace=True)\n",
    "\n",
    "hashtags.head(10)"
   ]
  },
  {
   "cell_type": "code",
   "execution_count": null,
   "metadata": {},
   "outputs": [],
   "source": [
    "\n",
    "# Remove stop words\n",
    "from nltk.corpus import stopwords\n",
    "\n",
    "stop = stopwords.words('english')\n",
    "hashtags['Hashtags_split'] = hashtags['Hashtags_split'].apply(lambda x: [item for item in x if item not in stop])\n",
    "\n",
    "hashtags.head(10)\n"
   ]
  },
  {
   "cell_type": "code",
   "execution_count": null,
   "metadata": {},
   "outputs": [],
   "source": []
  }
 ],
 "metadata": {
  "kernelspec": {
   "display_name": "Python 3",
   "language": "python",
   "name": "python3"
  },
  "language_info": {
   "codemirror_mode": {
    "name": "ipython",
    "version": 3
   },
   "file_extension": ".py",
   "mimetype": "text/x-python",
   "name": "python",
   "nbconvert_exporter": "python",
   "pygments_lexer": "ipython3",
   "version": "3.10.11"
  }
 },
 "nbformat": 4,
 "nbformat_minor": 2
}
