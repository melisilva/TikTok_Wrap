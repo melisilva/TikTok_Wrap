{
 "cells": [
  {
   "cell_type": "code",
   "execution_count": 3,
   "metadata": {},
   "outputs": [],
   "source": [
    "import pandas as pd\n",
    "\n",
    "df = pd.read_csv('data/video_browsing_history_full_tiktok_data.csv')\n",
    "# drop duplicates - rows that have the same date and link\n",
    "# but keep the rest of the columns\n",
    "\n",
    "unique_date_and_link = df.drop_duplicates(subset=['Date', 'Link'])\n",
    "#unique_date_and_link = df[['Date', 'Link']].drop_duplicates()\n",
    "unique_date_and_link.head()\n",
    "\n",
    "unique_date_and_link.to_csv('data/unique_video_browsing_history_full_tiktok_data.csv', index=False)"
   ]
  }
 ],
 "metadata": {
  "kernelspec": {
   "display_name": "Python 3",
   "language": "python",
   "name": "python3"
  },
  "language_info": {
   "codemirror_mode": {
    "name": "ipython",
    "version": 3
   },
   "file_extension": ".py",
   "mimetype": "text/x-python",
   "name": "python",
   "nbconvert_exporter": "python",
   "pygments_lexer": "ipython3",
   "version": "3.9.13"
  }
 },
 "nbformat": 4,
 "nbformat_minor": 2
}
