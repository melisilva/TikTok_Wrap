{
 "cells": [
  {
   "cell_type": "code",
   "execution_count": 3,
   "metadata": {},
   "outputs": [],
   "source": [
    "import pandas as pd\n",
    "\n",
    "df = pd.read_csv('data/video_browsing_history_full_tiktok_data.csv')\n",
    "# drop duplicates - rows that have the same date and link\n",
    "# but keep the rest of the columns\n",
    "\n",
    "unique_date_and_link = df.drop_duplicates(subset=['Date', 'Link'])\n",
    "#unique_date_and_link = df[['Date', 'Link']].drop_duplicates()\n",
    "unique_date_and_link.head()\n",
    "\n",
    "unique_date_and_link.to_csv('data/unique_video_browsing_history_full_tiktok_data.csv', index=False)"
   ]
  },
  {
   "cell_type": "code",
   "execution_count": 1,
   "metadata": {},
   "outputs": [],
   "source": [
    "import pandas as pd\n",
    "\n",
    "history = pd.read_csv('data/unique_video_browsing_history_full_tiktok_data.csv')\n",
    "likes = pd.read_csv('data/likes_full_tiktok_data.csv')\n",
    "favorites = pd.read_csv('data/favorite_videos_full_tiktok_data.csv')\n",
    "share = pd.read_csv('data/share_history_full_tiktok_data.csv')"
   ]
  },
  {
   "cell_type": "code",
   "execution_count": 9,
   "metadata": {},
   "outputs": [],
   "source": [
    "# history[\"Hashtags\"]\n",
    "history_hashtags = set(history[\"Hashtags\"]) #54947 unique hashtags (there's a lot of variations of the same hashtag)"
   ]
  },
  {
   "cell_type": "code",
   "execution_count": 32,
   "metadata": {},
   "outputs": [],
   "source": [
    "# see the most popular hashtags and plot them\n",
    "history[\"Hashtags\"].value_counts()\n",
    "\n",
    "wip_plot = history[\"Hashtags\"].dropna()\n",
    "wip_plot = wip_plot.str.split(',')\n",
    "wip_plot = wip_plot.explode()\n",
    "wip_plot = wip_plot.str.strip()\n",
    "\n",
    "wip_plot = wip_plot.value_counts()\n",
    "\n",
    "# put the hashtags in a dataframe\n",
    "wip_plot = pd.DataFrame(wip_plot)\n",
    "wip_plot.reset_index(inplace=True)\n",
    "wip_plot.columns = ['Hashtags', 'Count']\n"
   ]
  },
  {
   "cell_type": "code",
   "execution_count": 41,
   "metadata": {},
   "outputs": [
    {
     "name": "stdout",
     "output_type": "stream",
     "text": [
      "['#fyp', '#fypシ']\n",
      "['#fyp', '#fypシ', '#fy']\n",
      "['#spiderman', '#superman']\n",
      "['#erastour', '#theerastour']\n",
      "['#tvd', '#tvdu']\n",
      "['#dccomics', '#comics']\n",
      "['#brucewayne', '#brucewayneedit']\n",
      "['#edit', '#dcedit']\n",
      "Cluster: #fyp, #fypシ, #fy\n",
      "Cluster: #foryou\n",
      "Cluster: #taylorswift\n",
      "Cluster: #foryoupage\n",
      "Cluster: #viral\n",
      "Cluster: #edit, #dcedit\n",
      "Cluster: #batman\n",
      "Cluster: #dccomics, #comics\n",
      "Cluster: #dc\n",
      "Cluster: #marvel\n",
      "Cluster: #brucewayne, #brucewayneedit\n",
      "Cluster: #swifttok\n",
      "Cluster: #erastour, #theerastour\n",
      "Cluster: #spiderman, #superman\n",
      "Cluster: #swiftie\n",
      "Cluster: #xyzbca\n",
      "Cluster: #tvd, #tvdu\n",
      "Cluster: #greenscreen\n",
      "Cluster: #starwars\n",
      "Cluster: #trending\n",
      "Cluster: #barbie\n",
      "Cluster: #taylorsversion\n",
      "Cluster: #batmanedit\n",
      "Cluster: #mcu\n",
      "Cluster: #tedlasso\n",
      "Cluster: #thevampirediaries\n",
      "Cluster: #peterparker\n",
      "Cluster: #pedropascal\n",
      "Cluster: #klausmikaelson\n",
      "Cluster: #robin\n",
      "Cluster: #taylornation\n",
      "Cluster: #aftereffects\n",
      "Cluster: #dcuniverse\n",
      "Cluster: #stefansalvatore\n",
      "Cluster: #batfamily\n",
      "Cluster: #nightwing\n",
      "Cluster: #fypage\n",
      "Cluster: #jasontodd\n",
      "Cluster: #xmen\n",
      "Cluster: #CapCut\n",
      "Cluster: #theoriginals\n",
      "Cluster: #marvelcomics\n"
     ]
    }
   ],
   "source": [
    "from fuzzywuzzy import fuzz\n",
    "from fuzzywuzzy import process\n",
    "\n",
    "try_out = wip_plot[\"Hashtags\"][:50]\n",
    "similarity_threshold = 80  # You can adjust this threshold\n",
    "\n",
    "# Create a dictionary to store clustered hashtags\n",
    "clustered_hashtags = {}\n",
    "\n",
    "# Iterate through hashtags and cluster similar ones\n",
    "for hashtag in try_out:\n",
    "    added = False\n",
    "    for cluster, cluster_hashtag in clustered_hashtags.items():\n",
    "        if fuzz.ratio(cluster_hashtag[0], hashtag) > similarity_threshold:\n",
    "            clustered_hashtags[cluster].append(hashtag)\n",
    "            print(clustered_hashtags[cluster])\n",
    "            added = True\n",
    "            break\n",
    "    if not added:\n",
    "        clustered_hashtags[hashtag] = [hashtag]\n",
    "\n",
    "# Print the clustered hashtags\n",
    "for cluster, hashtags in clustered_hashtags.items():\n",
    "    print(f\"Cluster: {', '.join(hashtags)}\")\n",
    "\n",
    "# You can decide how to represent the clustered hashtags in your final list.\n"
   ]
  },
  {
   "cell_type": "markdown",
   "metadata": {},
   "source": [
    "We have some hashtags which are effects like CapCut, greenscreen.\n",
    "Similar stuff that we should remove #fyp, #fypシ, #fy, #foryou, #fypage\n",
    "Maybe remove #viral?"
   ]
  }
 ],
 "metadata": {
  "kernelspec": {
   "display_name": "Python 3",
   "language": "python",
   "name": "python3"
  },
  "language_info": {
   "codemirror_mode": {
    "name": "ipython",
    "version": 3
   },
   "file_extension": ".py",
   "mimetype": "text/x-python",
   "name": "python",
   "nbconvert_exporter": "python",
   "pygments_lexer": "ipython3",
   "version": "3.9.13"
  }
 },
 "nbformat": 4,
 "nbformat_minor": 2
}
